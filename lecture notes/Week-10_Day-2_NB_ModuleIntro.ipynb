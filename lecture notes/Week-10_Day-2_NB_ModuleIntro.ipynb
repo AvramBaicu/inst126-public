{
 "cells": [
  {
   "cell_type": "markdown",
   "metadata": {
    "id": "ObSubDjaEtPK"
   },
   "source": [
    "# Demo program\n",
    "\n",
    "I have a file with a bunch of earnings records: last 5 years of earnings from a bunch of products in my company, ordered from most recent to least recent. I want to index them so I can ask questions about earnings for each product, like:\n",
    "1. What are the total earnings?\n",
    "2. Are the earnings now more than they were before?\n",
    "3. What is the average earnings/year over the last 5 year period?"
   ]
  },
  {
   "cell_type": "code",
   "execution_count": 1,
   "metadata": {
    "colab": {
     "base_uri": "https://localhost:8080/"
    },
    "id": "LT6-XER2KRIc",
    "outputId": "53fc71ff-3ae8-4377-a7c1-66f0b2296030"
   },
   "outputs": [
    {
     "data": {
      "text/plain": [
       "['brother_printers,20000,17000,12000,5000,1250',\n",
       " 'laser_printers,210000,173000,122000,75000,51250',\n",
       " 'enterprise_servers,2000000,170000,120000,52000,12250',\n",
       " 'laptops,100000,117000,112000,115000,111250']"
      ]
     },
     "execution_count": 1,
     "metadata": {},
     "output_type": "execute_result"
    }
   ],
   "source": [
    "# GET the data in\n",
    "fpath = \"../resources/earnings.txt\"\n",
    "earnings = open(fpath).read().split(\"\\n\")\n",
    "earnings"
   ]
  },
  {
   "cell_type": "code",
   "execution_count": 2,
   "metadata": {
    "id": "wMaJlty2UnZV"
   },
   "outputs": [
    {
     "data": {
      "text/plain": [
       "{'brother_printers': [20000, 17000, 12000, 5000, 1250],\n",
       " 'laser_printers': [210000, 173000, 122000, 75000, 51250],\n",
       " 'enterprise_servers': [2000000, 170000, 120000, 52000, 12250],\n",
       " 'laptops': [100000, 117000, 112000, 115000, 111250]}"
      ]
     },
     "execution_count": 2,
     "metadata": {},
     "output_type": "execute_result"
    }
   ],
   "source": [
    "# create index\n",
    "earnings_index = {}\n",
    "\n",
    "# go through the records and parse them to an index\n",
    "for record in earnings:\n",
    "    \n",
    "    # PARSE the record\n",
    "    # gotta split. separator is comma\n",
    "    elements = record.split(\",\")\n",
    "    # product is the first thing\n",
    "    product = elements[0]\n",
    "    # list to hold the records, which is the rest of the stuff\n",
    "    earnings = []\n",
    "    # but gotta make sure it's numbers!\n",
    "    # so iterate through the remaining elements (after the first thing)\n",
    "    for e in elements[1:]:\n",
    "        # make it a number\n",
    "        earning = int(e)\n",
    "        # add to the list\n",
    "        earnings.append(earning)\n",
    "        \n",
    "    # ADD to index\n",
    "    earnings_index.update({product: earnings})\n",
    "\n",
    "# check the output\n",
    "earnings_index"
   ]
  },
  {
   "cell_type": "code",
   "execution_count": 6,
   "metadata": {},
   "outputs": [
    {
     "name": "stdout",
     "output_type": "stream",
     "text": [
      "Total earnings for enterprise_servers was $2354250\n"
     ]
    }
   ],
   "source": [
    "# test: can we get total earnings for laser printers?\n",
    "query_product = \"enterprise_servers\"\n",
    "# get the earnings list for the query product from the index\n",
    "query_product_earnings = earnings_index.get(query_product)\n",
    "# print a message about the sum of hte earnings\n",
    "print(f\"Total earnings for {query_product} was ${sum(query_product_earnings)}\")"
   ]
  },
  {
   "cell_type": "code",
   "execution_count": 7,
   "metadata": {},
   "outputs": [
    {
     "name": "stdout",
     "output_type": "stream",
     "text": [
      "Earnings decreased from 5 yrs ago to now for laptops, by -$-11250\n"
     ]
    }
   ],
   "source": [
    "# test: can we say if earnings increased/decreased?\n",
    "query_product = \"laptops\"\n",
    "# get the earnings list for the query product\n",
    "query_product_earnings = earnings_index.get(query_product)\n",
    "# compute the change from last to first year\n",
    "earnings_change = query_product_earnings[0] - query_product_earnings[-1]\n",
    "# print out a message dpeending on whether it's higher or lower\n",
    "# higher\n",
    "if earnings_change > 0:\n",
    "    print(f\"Earnings increased from 5 yrs ago to now for {product}, by ${earnings_change}\")\n",
    "# lower\n",
    "else:\n",
    "    print(f\"Earnings decreased from 5 yrs ago to now for {product}, by -${earnings_change}\")"
   ]
  }
 ],
 "metadata": {
  "colab": {
   "name": "INST126 SP21 Week10 Debugging_examples.ipynb",
   "provenance": [],
   "toc_visible": true
  },
  "kernelspec": {
   "display_name": "Python 3 (ipykernel)",
   "language": "python",
   "name": "python3"
  },
  "language_info": {
   "codemirror_mode": {
    "name": "ipython",
    "version": 3
   },
   "file_extension": ".py",
   "mimetype": "text/x-python",
   "name": "python",
   "nbconvert_exporter": "python",
   "pygments_lexer": "ipython3",
   "version": "3.9.7"
  }
 },
 "nbformat": 4,
 "nbformat_minor": 1
}
