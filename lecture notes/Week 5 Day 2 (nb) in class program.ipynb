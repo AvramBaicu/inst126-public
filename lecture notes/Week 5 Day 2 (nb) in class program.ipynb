{
 "cells": [
  {
   "cell_type": "markdown",
   "id": "323c06c0",
   "metadata": {},
   "source": [
    "Demo for problem of extracting emails from a list of text fragments.\n",
    "\n",
    "Problem formulation:\n",
    "\n",
    "<img src=\"../resources/Pasted image 20220222172000.png\" height=400 width=600></img>\n",
    "\n",
    "Overall program:"
   ]
  },
  {
   "cell_type": "code",
   "execution_count": 5,
   "id": "8dfccd64",
   "metadata": {},
   "outputs": [
    {
     "name": "stdout",
     "output_type": "stream",
     "text": [
      "['sarah@umd.edu', 'joelchan@umd.edu']\n"
     ]
    }
   ],
   "source": [
    "# key variables:\n",
    "# the input list of strings\n",
    "inputs = [\n",
    "    \"hello sarah@umd.edu\",\n",
    "    \"from: joelchan@umd.edu\",\n",
    "    \"some other text that doesn't have an email\"\n",
    "]\n",
    "# a place to store the email addresses\n",
    "emails = []\n",
    "\n",
    "# Loop over every text input\n",
    "for text_input in inputs:\n",
    "    \n",
    "    # extract an email address\n",
    "    # split the text into subsets\n",
    "    chunks = text_input.split()\n",
    "    \n",
    "    # check every chunk\n",
    "    for chunk in chunks:\n",
    "        # check if it has @ and .\n",
    "        if \"@\" in chunk and \".\" in chunk:\n",
    "            # put the chunk in the email list\n",
    "            emails.append(chunk)\n",
    "# give the email address back to the user\n",
    "print(emails)"
   ]
  },
  {
   "cell_type": "markdown",
   "id": "34ea751c",
   "metadata": {},
   "source": [
    "Component: split text into subsets"
   ]
  },
  {
   "cell_type": "code",
   "execution_count": 8,
   "id": "776e7397",
   "metadata": {},
   "outputs": [
    {
     "data": {
      "text/plain": [
       "['joelchanumd.edu', 'is', 'a', 'professor']"
      ]
     },
     "execution_count": 8,
     "metadata": {},
     "output_type": "execute_result"
    }
   ],
   "source": [
    "text_input = \"joelchanumd.edu is a professor\"\n",
    "chunks = text_input.split()\n",
    "chunks"
   ]
  },
  {
   "cell_type": "markdown",
   "id": "a717ad09",
   "metadata": {},
   "source": [
    "Component: check if a chunk of text is an email address"
   ]
  },
  {
   "cell_type": "code",
   "execution_count": 7,
   "id": "d57a8519",
   "metadata": {},
   "outputs": [
    {
     "data": {
      "text/plain": [
       "True"
      ]
     },
     "execution_count": 7,
     "metadata": {},
     "output_type": "execute_result"
    }
   ],
   "source": [
    "chunk = \"joelchan@umd.edu\"\n",
    "\"@\" in chunk and \".\" in chunk # boolean expression to check if the string contains `@` and `.`"
   ]
  },
  {
   "cell_type": "markdown",
   "id": "5e27ae01",
   "metadata": {},
   "source": [
    "We can also encapsalute the email extractor into its own function:"
   ]
  },
  {
   "cell_type": "code",
   "execution_count": 12,
   "id": "f3175d96",
   "metadata": {},
   "outputs": [],
   "source": [
    "def extract_email(text_input):\n",
    "    # split the text into subsets\n",
    "    chunks = text_input.split()\n",
    "    \n",
    "    # default output\n",
    "    result = \"no email\"\n",
    "    \n",
    "    # check every chunk\n",
    "    for chunk in chunks:\n",
    "        # check if it has @ and . (i.e., an email)\n",
    "        if \"@\" in chunk and \".\" in chunk:\n",
    "            # set result to email\n",
    "            result = chunk\n",
    "    \n",
    "    # return the result        \n",
    "    return result"
   ]
  },
  {
   "cell_type": "markdown",
   "id": "6cbb9441",
   "metadata": {},
   "source": [
    "And then write a program that uses that function."
   ]
  },
  {
   "cell_type": "code",
   "execution_count": 14,
   "id": "020e56f9",
   "metadata": {},
   "outputs": [
    {
     "name": "stdout",
     "output_type": "stream",
     "text": [
      "['sarah@umd.edu', 'joelchan@umd.edu']\n"
     ]
    }
   ],
   "source": [
    "# key variables:\n",
    "# the input list of strings\n",
    "inputs = [\n",
    "    \"hello sarah@umd.edu\",\n",
    "    \"from: joelchan@umd.edu\",\n",
    "    \"some other text that doesn't have an email\"\n",
    "]\n",
    "# a place to store the email addresses\n",
    "emails = []\n",
    "\n",
    "# Loop over every text input\n",
    "for text_input in inputs:\n",
    "    # try to extract an email address\n",
    "    email = extract_email(text_input)\n",
    "    # check if email\n",
    "    if email != \"no email\":\n",
    "        # and add to our list if it is\n",
    "        emails.append(email)\n",
    "# give the email address back to the user\n",
    "print(emails)"
   ]
  },
  {
   "cell_type": "markdown",
   "id": "9ade5a8d",
   "metadata": {},
   "source": [
    "Notice how this program is a little more concise and (more importantly) easier to understand!"
   ]
  }
 ],
 "metadata": {
  "kernelspec": {
   "display_name": "Python 3 (ipykernel)",
   "language": "python",
   "name": "python3"
  },
  "language_info": {
   "codemirror_mode": {
    "name": "ipython",
    "version": 3
   },
   "file_extension": ".py",
   "mimetype": "text/x-python",
   "name": "python",
   "nbconvert_exporter": "python",
   "pygments_lexer": "ipython3",
   "version": "3.9.7"
  }
 },
 "nbformat": 4,
 "nbformat_minor": 5
}
