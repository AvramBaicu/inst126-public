{
 "cells": [
  {
   "cell_type": "code",
   "execution_count": 3,
   "id": "ccdbede2",
   "metadata": {},
   "outputs": [
    {
     "name": "stdout",
     "output_type": "stream",
     "text": [
      "Crew is ready\n"
     ]
    }
   ],
   "source": [
    "# dashboard\n",
    "# crew status can be \"ready\" or \"not ready\"\n",
    "# if ready, print \"Crew is ready\", otherwise, print \"Crew is not ready\"\n",
    "crewStatus = \"ready\"\n",
    "\n",
    "if crewStatus == \"ready\":\n",
    "    print(\"Crew is ready\")\n",
    "else:\n",
    "    print(\"Crew is not ready\")"
   ]
  },
  {
   "cell_type": "code",
   "execution_count": 11,
   "id": "d58ea113",
   "metadata": {},
   "outputs": [
    {
     "name": "stdout",
     "output_type": "stream",
     "text": [
      "Crew status unknown\n"
     ]
    }
   ],
   "source": [
    "# dashboard\n",
    "# we care about three crew states:\n",
    "# 1. \"ready\" --> print \"Crew is ready\"\n",
    "# 2. \"almost\" ---> print \"Crew will be ready soon\"\n",
    "# 3. anything else --> print \"Crew is not ready\"\n",
    "crewStatus = \"lol\"\n",
    "\n",
    "if crewStatus == \"ready\":\n",
    "    print(\"Crew is ready\")\n",
    "elif crewStatus == \"almost\":\n",
    "    print(\"Crew will be ready soon\")\n",
    "elif crewStatus == \"not ready\":\n",
    "    print(\"Crew is not ready\")\n",
    "else:\n",
    "    print(\"Crew status unknown\")"
   ]
  },
  {
   "cell_type": "code",
   "execution_count": 13,
   "id": "3a88b9ce",
   "metadata": {},
   "outputs": [
    {
     "name": "stdout",
     "output_type": "stream",
     "text": [
      "Crew is ready\n"
     ]
    }
   ],
   "source": [
    "# dashboard\n",
    "# we care about three crew states:\n",
    "# 1. \"ready\" --> print \"Crew is ready\"\n",
    "# 2. \"almost\" ---> print \"Crew will be ready soon\"\n",
    "# 3. anything else --> print \"Crew is not ready\"\n",
    "crewStatus = \"ready\"\n",
    "\n",
    "if crewStatus == \"ready\":\n",
    "    print(\"Crew is ready\")\n",
    "else: \n",
    "    if crewStatus == \"almost\":\n",
    "        print(\"Crew will be ready soon\")\n",
    "    else: \n",
    "        if crewStatus == \"not ready\":\n",
    "            print(\"Crew is not ready\")\n",
    "        else:\n",
    "            print(\"Crew status unknown\")"
   ]
  },
  {
   "cell_type": "markdown",
   "id": "e391e50b",
   "metadata": {},
   "source": [
    "I don't like this. This doesn't match the nature of the problem. We just have a simple question that we want to ask once, with 4 possible answers. That feels more like a chained situation."
   ]
  },
  {
   "cell_type": "code",
   "execution_count": 24,
   "id": "efd78e43",
   "metadata": {},
   "outputs": [
    {
     "name": "stdout",
     "output_type": "stream",
     "text": [
      "Here is the silver mix menu\n"
     ]
    }
   ],
   "source": [
    "# waiter - first check your id, \n",
    "# then ask you what you want, and recommend based on that\n",
    "age = 21\n",
    "drink_preference = \"mix\" # or liquor, or beer\n",
    "mix_pref = \"silver\"\n",
    "\n",
    "if age >= 21:\n",
    "    if drink_preference == \"wine\":\n",
    "        print(\"Here is the wine selection\")\n",
    "    elif drink_preference == \"liquor\":\n",
    "        print(\"Here is the liquor menu\")\n",
    "    elif drink_preference == \"beer\":\n",
    "        print(\"Here is the beer menu\")\n",
    "    elif drink_preference == \"mix\":\n",
    "        if mix_pref == \"silver\":\n",
    "            print(\"Here is the silver mix menu\")\n",
    "        elif mix_pref == \"gold\":\n",
    "            print(\"Here is the gold mix menu\")\n",
    "        else:\n",
    "            print(\"Go home.\")         \n",
    "    else:\n",
    "        print(\"Come talk to our bartender\")\n",
    "else:\n",
    "    print(\"Here is the non-alcoholic menu\")    "
   ]
  },
  {
   "cell_type": "code",
   "execution_count": 21,
   "id": "8a0dfc11",
   "metadata": {},
   "outputs": [
    {
     "name": "stdout",
     "output_type": "stream",
     "text": [
      "Here is the wine selection\n"
     ]
    }
   ],
   "source": [
    "# waiter - first check your id, \n",
    "# then ask you what you want, and recommend based on that\n",
    "age = 22\n",
    "drink_preference = \"wine\" # or liquor, or beer\n",
    "\n",
    "if age < 21:\n",
    "    print(\"Here is the non-alcoholic menu\")\n",
    "elif drink_preference == \"wine\":\n",
    "    print(\"Here is the wine selection\")\n",
    "elif drink_preference == \"liquor\":\n",
    "    print(\"Here is the liquor menu\")\n",
    "elif drink_preference == \"beer\":\n",
    "    print(\"Here is the beer menu\")\n",
    "else:\n",
    "    print(\"Come talk to our bartender\")"
   ]
  }
 ],
 "metadata": {
  "kernelspec": {
   "display_name": "Python 3 (ipykernel)",
   "language": "python",
   "name": "python3"
  },
  "language_info": {
   "codemirror_mode": {
    "name": "ipython",
    "version": 3
   },
   "file_extension": ".py",
   "mimetype": "text/x-python",
   "name": "python",
   "nbconvert_exporter": "python",
   "pygments_lexer": "ipython3",
   "version": "3.9.7"
  }
 },
 "nbformat": 4,
 "nbformat_minor": 5
}
